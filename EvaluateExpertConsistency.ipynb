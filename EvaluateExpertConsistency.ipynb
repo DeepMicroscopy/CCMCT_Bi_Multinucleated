{
 "cells": [
  {
   "cell_type": "markdown",
   "metadata": {},
   "source": [
    "## Evaluation of expert consistency\n",
    "\n",
    "The individual annotations of the five experts are stored in the folder 'databases'\n",
    "\n",
    "In this notebook we read all individual annotations and match them according to the coordinates.\n",
    "A match is defined by a proximity of 25 pixels.\n"
   ]
  },
  {
   "cell_type": "code",
   "execution_count": 1,
   "metadata": {},
   "outputs": [],
   "source": [
    "from SlideRunner.dataAccess.database import Database\n",
    "\n",
    "files = [f'databases/BiMulti_VP{k+1}.sqlite' for k in range(6)]\n",
    "\n",
    "files_GT_DB = ['databases/MITOS_WSI_CCMCT_ODAEL_BiMulti_10HPF.sqlite']\n"
   ]
  },
  {
   "cell_type": "markdown",
   "metadata": {},
   "source": [
    "The class \"Annotations\" is used to self-generate a ground truth out of the votes. However, it also supports adding manual ground truth (add_GT)."
   ]
  },
  {
   "cell_type": "code",
   "execution_count": 2,
   "metadata": {},
   "outputs": [],
   "source": [
    "from uuid import uuid4\n",
    "import numpy as np\n",
    "\n",
    "        \n",
    "\n",
    "class Annotations:\n",
    "    def __init__(self, gtcount, initcoordinates={}, initvotes={}):\n",
    "        self.coordinates = {}\n",
    "        self.votes = {}\n",
    "        self.gtcount = gtcount\n",
    "        self.matchingRadius = 25\n",
    "        self.override_GT = None\n",
    "    \n",
    "    def TP(self, expertId):\n",
    "        gta = self.GTannotations()\n",
    "        TP = [k for k,v in zip(self.votes.keys(), self.votes.values()) if expertId in v and k in gta.coordinates.keys()]\n",
    "        return len(TP)\n",
    "\n",
    "    def FP(self, expertId):\n",
    "        gta = self.GTannotations()\n",
    "        FP = [k for k,v in zip(self.votes.keys(), self.votes.values()) if expertId in v and k not in gta.coordinates.keys()]\n",
    "        return len(FP)\n",
    "\n",
    "    def FN(self, expertId):\n",
    "        gta = self.GTannotations()\n",
    "        FN = [k for k,v in zip(self.votes.keys(), self.votes.values()) if expertId not in v and k in gta.coordinates.keys()]\n",
    "        return len(FN)\n",
    "\n",
    "    def MC(self, expertId):\n",
    "        MC = [k for k,v in zip(self.votes.keys(), self.votes.values()) if expertId in v]\n",
    "        return len(MC)\n",
    "    \n",
    "    def GTannotations(self) -> \"Annotations\":\n",
    "        if self.override_GT is not None: return self.override_GT\n",
    "        idxs = [k for k,v in zip(self.votes.keys(),self.votes.values()) if len(v)>=self.gtcount]\n",
    "        lens = {k:len(v) for k,v in zip(self.votes.keys(),self.votes.values())}\n",
    "        initcoordinates = {k: v for k,v in zip(self.coordinates.keys(),self.coordinates.values()) if k in idxs}\n",
    "        initvotes =  {k:v for k,k in zip(self.votes.keys(),self.votes.values()) if k in idxs}\n",
    "        a2 = Annotations(self.gtcount)\n",
    "        a2.coordinates=initcoordinates\n",
    "        a2.votes = initvotes\n",
    "        return a2\n",
    "    \n",
    "    def add(self, coordinates:tuple, expertId:int):\n",
    "        co = self.coordinates.values()\n",
    "\n",
    "        matching = [((c[0]-coordinates[0])**2)+((c[1]-coordinates[1])**2)<self.matchingRadius**2 for c in co]\n",
    "        if (np.sum(matching)==0):\n",
    "            # not found, create new entry\n",
    "            u = uuid4()\n",
    "            self.coordinates[u] = coordinates\n",
    "            self.votes[u] = [expertId]\n",
    "        else:\n",
    "            match = np.where(matching)[0][0]\n",
    "            u = list(self.coordinates.keys())[match]\n",
    "            self.votes[u].append(expertId)\n",
    "\n",
    "    def add_GT(self, coordinates:tuple, expertId:int):\n",
    "        if (self.override_GT) is None:\n",
    "            self.override_GT = Annotations(1)\n",
    "            # Now overwriting GT annotations\n",
    "            \n",
    "        co = self.coordinates.values()\n",
    "\n",
    "        matching = [((c[0]-coordinates[0])**2)+((c[1]-coordinates[1])**2)<self.matchingRadius**2 for c in co]\n",
    "        if (np.sum(matching)==0):\n",
    "            # not found, create new entry\n",
    "            u = uuid4()\n",
    "            self.override_GT.coordinates[u] = coordinates\n",
    "            self.override_GT.votes[u] = [expertId]\n",
    "        else:\n",
    "            match = np.where(matching)[0][0]\n",
    "            u = list(self.coordinates.keys())[match]\n",
    "            self.override_GT.votes[u] = [expertId]\n",
    "            self.override_GT.coordinates[u] = self.coordinates[u]\n",
    "    \n",
    "    def __repr__(self) -> str:\n",
    "        return f'<Annotations> object with {len(self.coordinates.keys())} annotations.'"
   ]
  },
  {
   "cell_type": "markdown",
   "metadata": {},
   "source": [
    "### Assemble Ground Truth for two-expert vote"
   ]
  },
  {
   "cell_type": "code",
   "execution_count": 3,
   "metadata": {},
   "outputs": [
    {
     "name": "stdout",
     "output_type": "stream",
     "text": [
      "[('Binucleated', 1, '#00aa00'), ('Multinucleated', 2, '#0000ff')]\n",
      "[('Bi-nucleated', 1, '#73d216'), ('Multi-nucleated', 2, '#f5ac99')]\n",
      "[('Binucleated', 1, '#2d2e3c'), ('Multinucleated', 2, '#91c5ba')]\n",
      "[('Binucleated', 1, '#73d216'), ('Multinucleated', 2, '#5fbbc2')]\n",
      "[('Binucleate cells', 1, '#c7b326'), ('Multinucleate cells', 2, '#afd8ba')]\n",
      "[('Binucleated', 1, '#8be720'), ('Multinucleated', 2, '#7e4cc1')]\n"
     ]
    }
   ],
   "source": [
    "slideAnnos_bi = {}\n",
    "slideAnnos_multi = {}\n",
    "\n",
    "for file in files:\n",
    "    DB = Database().open(file)\n",
    "    print(DB.getAllClasses())\n",
    "    multiclass = [id for (name,id,col) in DB.getAllClasses() if 'ulti' in name]\n",
    "    biclass = [id for (name,id,col) in DB.getAllClasses() if 'ulti' not in name]\n",
    "    if (len(biclass)>1):\n",
    "        raise(Error, 'Multiple classes for bi found')\n",
    "\n",
    "    if (len(multiclass)>1):\n",
    "        raise(Error, 'Multiple classes for multi found')\n",
    "        \n",
    "    for dbid,fname in DB.listOfSlides():\n",
    "        if fname not in slideAnnos_bi:\n",
    "            slideAnnos_bi[fname] = Annotations(gtcount=2)\n",
    "        if fname not in slideAnnos_multi:\n",
    "            slideAnnos_multi[fname] = Annotations(gtcount=2)\n",
    "        DB.loadIntoMemory(dbid)\n",
    "        for anno in DB.annotations:\n",
    "            if not DB.annotations[anno].deleted and DB.annotations[anno].agreedClass==biclass[0]:\n",
    "                slideAnnos_bi[fname].add([DB.annotations[anno].x1,DB.annotations[anno].y1], file)\n",
    "            if not DB.annotations[anno].deleted and DB.annotations[anno].agreedClass==multiclass[0]:\n",
    "                slideAnnos_multi[fname].add([DB.annotations[anno].x1,DB.annotations[anno].y1], file)\n",
    "\n",
    "                \n",
    "                \n",
    "GTBiNC={}\n",
    "for k in slideAnnos_bi.keys():\n",
    "    GTBiNC[k] = len(slideAnnos_bi[k].GTannotations().coordinates)\n",
    "    \n",
    "GTMuNC={}\n",
    "for k in slideAnnos_multi.keys():\n",
    "    GTMuNC[k] = len(slideAnnos_multi[k].GTannotations().coordinates)\n",
    "    \n",
    "    "
   ]
  },
  {
   "cell_type": "markdown",
   "metadata": {},
   "source": [
    "### Store two-expert vote in database"
   ]
  },
  {
   "cell_type": "code",
   "execution_count": 4,
   "metadata": {},
   "outputs": [],
   "source": [
    "DB_MPGT = Database().create('databases/BiMulti_MultiPathologistGT_twoExpertConsensus.sqlite')\n",
    "DB_MPGT.insertAnnotator('Expert consensus')\n",
    "DB_MPGT.insertClass('Binucleated')\n",
    "DB_MPGT.insertClass('Multinucleated')\n",
    "\n",
    "\n",
    "for k in slideAnnos_bi.keys():\n",
    "    sluid = DB_MPGT.insertNewSlide(k,'')\n",
    "    for (x,y) in slideAnnos_bi[k].GTannotations().coordinates.values():\n",
    "        DB_MPGT.insertNewSpotAnnotation(x,y,sluid,1,1)\n",
    "\n",
    "    for (x,y) in slideAnnos_multi[k].GTannotations().coordinates.values():\n",
    "        DB_MPGT.insertNewSpotAnnotation(x,y,sluid,2,1)\n",
    "\n",
    "DB_MPGT.db.close()"
   ]
  },
  {
   "cell_type": "markdown",
   "metadata": {},
   "source": [
    "### Binucleated"
   ]
  },
  {
   "cell_type": "code",
   "execution_count": 5,
   "metadata": {},
   "outputs": [
    {
     "name": "stdout",
     "output_type": "stream",
     "text": [
      "databases/BiMulti_VP1.sqlite: TP:134, FP:64, FN:141, F1:0.5665961825243936\n",
      "databases/BiMulti_VP2.sqlite: TP:78, FP:18, FN:197, F1:0.42048516386832446\n",
      "databases/BiMulti_VP3.sqlite: TP:126, FP:126, FN:149, F1:0.478178359047849\n",
      "databases/BiMulti_VP4.sqlite: TP:98, FP:80, FN:177, F1:0.43267107212646644\n",
      "databases/BiMulti_VP5.sqlite: TP:240, FP:424, FN:35, F1:0.5111821031822993\n",
      "databases/BiMulti_VP6.sqlite: TP:71, FP:36, FN:204, F1:0.3717277389600069\n",
      "Total positives binucleated: 275\n",
      "Median F1:  0.4554247155871577\n"
     ]
    }
   ],
   "source": [
    "F1s = []\n",
    "for author in files:\n",
    "    TP,FN,FP = 0,0,0\n",
    "    \n",
    "    for slides in slideAnnos_bi.keys():\n",
    "        TP += slideAnnos_bi[slides].TP(author)\n",
    "        FP += slideAnnos_bi[slides].FP(author)\n",
    "        FN += slideAnnos_bi[slides].FN(author)\n",
    "    \n",
    "    F1 = 2*TP/(2*TP+FP+FN+0.00001)\n",
    "    F1s.append(F1)\n",
    "\n",
    "    print(f'{author}: TP:{TP}, FP:{FP}, FN:{FN}, F1:{F1}')\n",
    "    \n",
    "print('Total positives binucleated:',TP+FN)\n",
    "print('Median F1: ',np.median(F1s))\n"
   ]
  },
  {
   "cell_type": "markdown",
   "metadata": {},
   "source": [
    "### Multinucleated"
   ]
  },
  {
   "cell_type": "code",
   "execution_count": 6,
   "metadata": {},
   "outputs": [
    {
     "name": "stdout",
     "output_type": "stream",
     "text": [
      "databases/BiMulti_VP1.sqlite: TP:25, FP:8, FN:32, F1:0.5555554938271673\n",
      "databases/BiMulti_VP2.sqlite: TP:27, FP:10, FN:30, F1:0.5744680239927634\n",
      "databases/BiMulti_VP3.sqlite: TP:33, FP:48, FN:24, F1:0.47826083490863514\n",
      "databases/BiMulti_VP4.sqlite: TP:26, FP:10, FN:31, F1:0.5591397248236855\n",
      "databases/BiMulti_VP5.sqlite: TP:42, FP:35, FN:15, F1:0.6268656248607742\n",
      "databases/BiMulti_VP6.sqlite: TP:20, FP:34, FN:37, F1:0.36036032789546596\n",
      "Total positives multinucleated: 57\n",
      "Median F1:  0.5573476093254264\n"
     ]
    }
   ],
   "source": [
    "F1s = []\n",
    "for author in files:\n",
    "    TP,FN,FP = 0,0,0\n",
    "    \n",
    "    for slides in slideAnnos_multi.keys():\n",
    "        TP += slideAnnos_multi[slides].TP(author)\n",
    "        FP += slideAnnos_multi[slides].FP(author)\n",
    "        FN += slideAnnos_multi[slides].FN(author)\n",
    "    \n",
    "    F1 = 2*TP/(2*TP+FP+FN+0.00001)\n",
    "    F1s.append(F1)\n",
    "\n",
    "    print(f'{author}: TP:{TP}, FP:{FP}, FN:{FN}, F1:{F1}')\n",
    "    \n",
    "print('Total positives multinucleated:',TP+FN)\n",
    "print('Median F1: ',np.median(F1s))\n"
   ]
  },
  {
   "cell_type": "markdown",
   "metadata": {},
   "source": [
    "## Majority vote (GT count = 3)"
   ]
  },
  {
   "cell_type": "code",
   "execution_count": 7,
   "metadata": {},
   "outputs": [
    {
     "name": "stdout",
     "output_type": "stream",
     "text": [
      "[('Binucleated', 1, '#00aa00'), ('Multinucleated', 2, '#0000ff')]\n",
      "[('Bi-nucleated', 1, '#73d216'), ('Multi-nucleated', 2, '#f5ac99')]\n",
      "[('Binucleated', 1, '#2d2e3c'), ('Multinucleated', 2, '#91c5ba')]\n",
      "[('Binucleated', 1, '#73d216'), ('Multinucleated', 2, '#5fbbc2')]\n",
      "[('Binucleate cells', 1, '#c7b326'), ('Multinucleate cells', 2, '#afd8ba')]\n",
      "[('Binucleated', 1, '#8be720'), ('Multinucleated', 2, '#7e4cc1')]\n"
     ]
    }
   ],
   "source": [
    "slideAnnos_bi = {}\n",
    "slideAnnos_multi = {}\n",
    "\n",
    "for file in files:\n",
    "    DB = Database().open(file)\n",
    "    print(DB.getAllClasses())\n",
    "    multiclass = [id for (name,id,col) in DB.getAllClasses() if 'ulti' in name]\n",
    "    biclass = [id for (name,id,col) in DB.getAllClasses() if 'ulti' not in name]\n",
    "    if (len(biclass)>1):\n",
    "        raise(Error, 'Multiple classes for bi found')\n",
    "\n",
    "    if (len(multiclass)>1):\n",
    "        raise(Error, 'Multiple classes for multi found')\n",
    "        \n",
    "    for dbid,fname in DB.listOfSlides():\n",
    "        if fname not in slideAnnos_bi:\n",
    "            slideAnnos_bi[fname] = Annotations(gtcount=3)\n",
    "        if fname not in slideAnnos_multi:\n",
    "            slideAnnos_multi[fname] = Annotations(gtcount=3)\n",
    "        DB.loadIntoMemory(dbid)\n",
    "        for anno in DB.annotations:\n",
    "            if not DB.annotations[anno].deleted and DB.annotations[anno].agreedClass==biclass[0]:\n",
    "                slideAnnos_bi[fname].add([DB.annotations[anno].x1,DB.annotations[anno].y1], file)\n",
    "            if not DB.annotations[anno].deleted and DB.annotations[anno].agreedClass==multiclass[0]:\n",
    "                slideAnnos_multi[fname].add([DB.annotations[anno].x1,DB.annotations[anno].y1], file)\n",
    "\n",
    "                \n",
    "                \n",
    "GTBiNC={}\n",
    "for k in slideAnnos_bi.keys():\n",
    "    GTBiNC[k] = len(slideAnnos_bi[k].GTannotations().coordinates)\n",
    "    \n",
    "GTMuNC={}\n",
    "for k in slideAnnos_multi.keys():\n",
    "    GTMuNC[k] = len(slideAnnos_multi[k].GTannotations().coordinates)\n",
    "    \n",
    "    "
   ]
  },
  {
   "cell_type": "markdown",
   "metadata": {},
   "source": [
    "### Store three-expert ground truth into database file"
   ]
  },
  {
   "cell_type": "code",
   "execution_count": 8,
   "metadata": {},
   "outputs": [],
   "source": [
    "DB_MPGT = Database().create('databases/BiMulti_MultiPathologistGT_ConsensusOfThree.sqlite')\n",
    "DB_MPGT.insertAnnotator('Expert consensus')\n",
    "DB_MPGT.insertClass('Binucleated')\n",
    "DB_MPGT.insertClass('Multinucleated')\n",
    "\n",
    "\n",
    "for k in slideAnnos_bi.keys():\n",
    "    sluid = DB_MPGT.insertNewSlide(k,'')\n",
    "    for (x,y) in slideAnnos_bi[k].GTannotations().coordinates.values():\n",
    "        DB_MPGT.insertNewSpotAnnotation(x,y,sluid,1,1)\n",
    "\n",
    "    for (x,y) in slideAnnos_multi[k].GTannotations().coordinates.values():\n",
    "        DB_MPGT.insertNewSpotAnnotation(x,y,sluid,2,1)\n",
    "\n",
    "DB_MPGT.db.close()"
   ]
  },
  {
   "cell_type": "markdown",
   "metadata": {},
   "source": [
    "### Bi-Nucleated"
   ]
  },
  {
   "cell_type": "code",
   "execution_count": 9,
   "metadata": {},
   "outputs": [
    {
     "name": "stdout",
     "output_type": "stream",
     "text": [
      "databases/BiMulti_VP1.sqlite: TP:79, FP:119, FN:31, F1:0.5129869963315911\n",
      "databases/BiMulti_VP2.sqlite: TP:54, FP:42, FN:56, F1:0.5242718192101059\n",
      "databases/BiMulti_VP3.sqlite: TP:71, FP:181, FN:39, F1:0.392265182534111\n",
      "databases/BiMulti_VP4.sqlite: TP:61, FP:117, FN:49, F1:0.42361109640239253\n",
      "databases/BiMulti_VP5.sqlite: TP:101, FP:563, FN:9, F1:0.26098190877284355\n",
      "databases/BiMulti_VP6.sqlite: TP:51, FP:56, FN:59, F1:0.4700460612881999\n",
      "Total positives binucleated: 110\n",
      "Median F1:  0.44682857884529625\n"
     ]
    }
   ],
   "source": [
    "F1s = []\n",
    "for author in files:\n",
    "    TP,FN,FP = 0,0,0\n",
    "    \n",
    "    for slides in slideAnnos_bi.keys():\n",
    "        TP += slideAnnos_bi[slides].TP(author)\n",
    "        FP += slideAnnos_bi[slides].FP(author)\n",
    "        FN += slideAnnos_bi[slides].FN(author)\n",
    "    \n",
    "    F1 = 2*TP/(2*TP+FP+FN+0.00001)\n",
    "    F1s.append(F1)\n",
    "\n",
    "    print(f'{author}: TP:{TP}, FP:{FP}, FN:{FN}, F1:{F1}')\n",
    "    \n",
    "print('Total positives binucleated:',TP+FN)\n",
    "print('Median F1: ',np.median(F1s))\n"
   ]
  },
  {
   "cell_type": "markdown",
   "metadata": {},
   "source": [
    "### Multi-nucleated"
   ]
  },
  {
   "cell_type": "code",
   "execution_count": 10,
   "metadata": {},
   "outputs": [
    {
     "name": "stdout",
     "output_type": "stream",
     "text": [
      "databases/BiMulti_VP1.sqlite: TP:18, FP:15, FN:8, F1:0.6101693881068834\n",
      "databases/BiMulti_VP2.sqlite: TP:16, FP:21, FN:10, F1:0.5079364273116782\n",
      "databases/BiMulti_VP3.sqlite: TP:19, FP:62, FN:7, F1:0.3551401537252193\n",
      "databases/BiMulti_VP4.sqlite: TP:19, FP:17, FN:7, F1:0.6129031269511085\n",
      "databases/BiMulti_VP5.sqlite: TP:24, FP:53, FN:2, F1:0.4660193722311289\n",
      "databases/BiMulti_VP6.sqlite: TP:15, FP:39, FN:11, F1:0.37499995312500584\n",
      "Total positives multinucleated: 26\n",
      "Median F1:  0.48697789977140354\n"
     ]
    }
   ],
   "source": [
    "F1s = []\n",
    "for author in files:\n",
    "    TP,FN,FP = 0,0,0\n",
    "    \n",
    "    for slides in slideAnnos_multi.keys():\n",
    "        TP += slideAnnos_multi[slides].TP(author)\n",
    "        FP += slideAnnos_multi[slides].FP(author)\n",
    "        FN += slideAnnos_multi[slides].FN(author)\n",
    "    \n",
    "    F1 = 2*TP/(2*TP+FP+FN+0.00001)\n",
    "    F1s.append(F1)\n",
    "\n",
    "    print(f'{author}: TP:{TP}, FP:{FP}, FN:{FN}, F1:{F1}')\n",
    "    \n",
    "print('Total positives multinucleated:',TP+FN)\n",
    "print('Median F1: ',np.median(F1s))\n"
   ]
  },
  {
   "cell_type": "markdown",
   "metadata": {},
   "source": [
    "# Now evaluate on Dataset GT"
   ]
  },
  {
   "cell_type": "code",
   "execution_count": 11,
   "metadata": {},
   "outputs": [],
   "source": [
    "DB = Database().open(files_GT_DB[0])\n",
    "for file in files:\n",
    "    \n",
    "    for dbid,fname in DB.listOfSlides():\n",
    "        DB.loadIntoMemory(dbid)\n",
    "        if fname not in slideAnnos_bi: \n",
    "            continue # not part of test set\n",
    "        for anno in DB.annotations:\n",
    "            if not DB.annotations[anno].deleted and DB.annotations[anno].agreedClass==5:\n",
    "                slideAnnos_bi[fname].add_GT([DB.annotations[anno].x1,DB.annotations[anno].y1], 'GT')\n",
    "            if not DB.annotations[anno].deleted and DB.annotations[anno].agreedClass==6:\n",
    "                slideAnnos_multi[fname].add_GT([DB.annotations[anno].x1,DB.annotations[anno].y1], 'GT')\n",
    "    \n"
   ]
  },
  {
   "cell_type": "markdown",
   "metadata": {},
   "source": [
    "### Bi-Nucleated"
   ]
  },
  {
   "cell_type": "code",
   "execution_count": 12,
   "metadata": {},
   "outputs": [
    {
     "name": "stdout",
     "output_type": "stream",
     "text": [
      "databases/BiMulti_VP1.sqlite: TP:91, FP:107, FN:57, Sens:0.615, Prec:0.460 F1:0.526\n",
      "databases/BiMulti_VP2.sqlite: TP:40, FP:56, FN:108, Sens:0.270, Prec:0.417 F1:0.328\n",
      "databases/BiMulti_VP3.sqlite: TP:56, FP:196, FN:92, Sens:0.378, Prec:0.222 F1:0.280\n",
      "databases/BiMulti_VP4.sqlite: TP:44, FP:134, FN:104, Sens:0.297, Prec:0.247 F1:0.270\n",
      "databases/BiMulti_VP5.sqlite: TP:122, FP:542, FN:26, Sens:0.824, Prec:0.184 F1:0.300\n",
      "databases/BiMulti_VP6.sqlite: TP:42, FP:65, FN:106, Sens:0.284, Prec:0.393 F1:0.329\n",
      "Total positives binucleated: 148\n",
      "Median F1:  0.3141807230792797\n"
     ]
    }
   ],
   "source": [
    "F1s = []\n",
    "for author in files:\n",
    "    TP,FN,FP = 0,0,0\n",
    "    \n",
    "    for slides in slideAnnos_bi.keys():\n",
    "        TP += slideAnnos_bi[slides].TP(author)\n",
    "        FP += slideAnnos_bi[slides].FP(author)\n",
    "        FN += slideAnnos_bi[slides].FN(author)\n",
    "    \n",
    "    F1 = 2*TP/(2*TP+FP+FN+0.00001)\n",
    "    F1s.append(F1)\n",
    "\n",
    "    print(f'{author}: TP:{TP}, FP:{FP}, FN:{FN}, Sens:{TP/(TP+FN):.3f}, Prec:{TP/(TP+FP):.3f} F1:{F1:.3f}')\n",
    "    \n",
    "    \n",
    "print('Total positives binucleated:',TP+FN)\n",
    "print('Median F1: ',np.median(F1s))\n"
   ]
  },
  {
   "cell_type": "markdown",
   "metadata": {},
   "source": [
    "### Multi-Nucleated"
   ]
  },
  {
   "cell_type": "code",
   "execution_count": 13,
   "metadata": {},
   "outputs": [
    {
     "name": "stdout",
     "output_type": "stream",
     "text": [
      "databases/BiMulti_VP1.sqlite: TP:23, FP:10, FN:18, Sens:0.561, Prec:0.697 F1:0.622\n",
      "databases/BiMulti_VP2.sqlite: TP:20, FP:17, FN:21, Sens:0.488, Prec:0.541 F1:0.513\n",
      "databases/BiMulti_VP3.sqlite: TP:22, FP:59, FN:19, Sens:0.537, Prec:0.272 F1:0.361\n",
      "databases/BiMulti_VP4.sqlite: TP:21, FP:15, FN:20, Sens:0.512, Prec:0.583 F1:0.545\n",
      "databases/BiMulti_VP5.sqlite: TP:26, FP:51, FN:15, Sens:0.634, Prec:0.338 F1:0.441\n",
      "databases/BiMulti_VP6.sqlite: TP:15, FP:39, FN:26, Sens:0.366, Prec:0.278 F1:0.316\n",
      "Total positives multinucleated: 41\n",
      "Median F1:  0.4767491879152047\n"
     ]
    }
   ],
   "source": [
    "F1s = []\n",
    "for author in files:\n",
    "    TP,FN,FP = 0,0,0\n",
    "    \n",
    "    for slides in slideAnnos_multi.keys():\n",
    "        TP += slideAnnos_multi[slides].TP(author)\n",
    "        FP += slideAnnos_multi[slides].FP(author)\n",
    "        FN += slideAnnos_multi[slides].FN(author)\n",
    "    \n",
    "    F1 = 2*TP/(2*TP+FP+FN+0.00001)\n",
    "    F1s.append(F1)\n",
    "\n",
    "    print(f'{author}: TP:{TP}, FP:{FP}, FN:{FN}, Sens:{TP/(TP+FN):.3f}, Prec:{TP/(TP+FP):.3f} F1:{F1:.3f}')\n",
    "    \n",
    "print('Total positives multinucleated:',TP+FN)\n",
    "print('Median F1: ',np.median(F1s))\n"
   ]
  },
  {
   "cell_type": "code",
   "execution_count": null,
   "metadata": {},
   "outputs": [],
   "source": []
  }
 ],
 "metadata": {
  "kernelspec": {
   "display_name": "Python 3",
   "language": "python",
   "name": "python3"
  },
  "language_info": {
   "codemirror_mode": {
    "name": "ipython",
    "version": 3
   },
   "file_extension": ".py",
   "mimetype": "text/x-python",
   "name": "python",
   "nbconvert_exporter": "python",
   "pygments_lexer": "ipython3",
   "version": "3.6.9"
  }
 },
 "nbformat": 4,
 "nbformat_minor": 4
}
